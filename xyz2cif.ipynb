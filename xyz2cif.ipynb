{
  "nbformat": 4,
  "nbformat_minor": 0,
  "metadata": {
    "colab": {
      "provenance": [],
      "authorship_tag": "ABX9TyMzV5sIorEOTAJSn4veNSen",
      "include_colab_link": true
    },
    "kernelspec": {
      "name": "python3",
      "display_name": "Python 3"
    },
    "language_info": {
      "name": "python"
    }
  },
  "cells": [
    {
      "cell_type": "markdown",
      "metadata": {
        "id": "view-in-github",
        "colab_type": "text"
      },
      "source": [
        "<a href=\"https://colab.research.google.com/github/vinayak2019/Polymer/blob/main/xyz2cif.ipynb\" target=\"_parent\"><img src=\"https://colab.research.google.com/assets/colab-badge.svg\" alt=\"Open In Colab\"/></a>"
      ]
    },
    {
      "cell_type": "code",
      "source": [
        "!pip install ase"
      ],
      "metadata": {
        "id": "0U8Egc2c8WxC"
      },
      "execution_count": null,
      "outputs": []
    },
    {
      "cell_type": "code",
      "execution_count": null,
      "metadata": {
        "id": "QtqtmrNU8UEG"
      },
      "outputs": [],
      "source": [
        "from ase.io import read, write\n",
        "import numpy as np\n",
        "\n",
        "\n",
        "def build_periodic_polymer(\n",
        "    xyz_file: str,\n",
        "    output_file: str = \"polymer.cif\",\n",
        "    dummy_symbol: str = \"X\",\n",
        "    repeat: int = 1,\n",
        "):\n",
        "    \"\"\"\n",
        "    Build a periodic polymer unit cell from a monomer XYZ file.\n",
        "\n",
        "    Parameters\n",
        "    ----------\n",
        "    xyz_file : str\n",
        "        Path to the XYZ file of the monomer. The monomer must include exactly two dummy atoms\n",
        "        labeled with `dummy_symbol` marking the polymer ends.\n",
        "    output_file : str\n",
        "        Path to write the periodic structure (CIF format recommended).\n",
        "    dummy_symbol : str\n",
        "        Chemical symbol used for dummy atoms (default: \"X\").\n",
        "    repeat : int\n",
        "        Number of monomers per cell along the polymer axis (default: 1).\n",
        "\n",
        "    Output\n",
        "    ------\n",
        "    Writes a CIF file in which the first lattice vector aligns with the polymer axis\n",
        "    and the other two span the true molecular extents perpendicular to it.\n",
        "    \"\"\"\n",
        "    # Read monomer and identify dummy atoms\n",
        "    mon = read(xyz_file, format=\"xyz\")\n",
        "    dummy_idxs = [i for i, a in enumerate(mon) if a.symbol == dummy_symbol]\n",
        "    if len(dummy_idxs) != 2:\n",
        "        raise ValueError(f\"Expected exactly two dummy atoms ('{dummy_symbol}'), found {len(dummy_idxs)}\")\n",
        "\n",
        "    # Compute polymer axis from dummy positions\n",
        "    d1, d2 = (mon.positions[i] for i in dummy_idxs)\n",
        "    trans_vec = d2 - d1\n",
        "    idx = np.argmax(np.abs(trans_vec))\n",
        "    if trans_vec[idx] > 0:\n",
        "        trans_vec[idx] -= 2.4\n",
        "    else:\n",
        "        trans_vec[idx] += 2.4\n",
        "    length1 = np.linalg.norm(trans_vec)\n",
        "    axis_dir = trans_vec / length1\n",
        "\n",
        "    # Remove dummy atoms and recenter so that d1 is origin\n",
        "    keep = [i for i in range(len(mon)) if i not in dummy_idxs]\n",
        "    poly = mon[keep]\n",
        "    poly.positions -= d1\n",
        "\n",
        "    # Choose perpendicular directions\n",
        "    tmp = np.array([1.0, 0.0, 0.0]) if abs(axis_dir[0]) < 0.9 else np.array([0.0, 1.0, 0.0])\n",
        "    a2_dir = np.cross(axis_dir, tmp)\n",
        "    a2_dir /= np.linalg.norm(a2_dir)\n",
        "    a3_dir = np.cross(axis_dir, a2_dir)\n",
        "    a3_dir /= np.linalg.norm(a3_dir)\n",
        "\n",
        "    # Project atomic positions onto perpendicular axes\n",
        "    coords = poly.get_positions()\n",
        "    proj2 = coords.dot(a2_dir)\n",
        "    proj3 = coords.dot(a3_dir)\n",
        "    length2 = proj2.max() - proj2.min()\n",
        "    length3 = proj3.max() - proj3.min()\n",
        "\n",
        "    # Define lattice vectors\n",
        "    a1 = axis_dir * length1 * repeat\n",
        "    a2 = a2_dir * length2\n",
        "    a3 = a3_dir * length3\n",
        "\n",
        "    if length2 > length3:\n",
        "        lattice = np.vstack([a2, a3, a1])\n",
        "    else:\n",
        "        lattice = np.vstack([a3, a2, a1])\n",
        "    # Apply periodic cell\n",
        "    poly.set_cell(lattice, scale_atoms=False)\n",
        "    poly.set_pbc([True, True, True])\n",
        "\n",
        "    # Optionally replicate along polymer axis\n",
        "    # if repeat > 1:\n",
        "    #     poly = poly.repeat((repeat, 1, 1))\n",
        "\n",
        "    # Write output CIF\n",
        "    write(output_file, poly)\n",
        "    print(f\"Written periodic polymer to {output_file}\")\n",
        "\n",
        "\n",
        "if __name__ == \"__main__\":\n",
        "    # Example usage\n",
        "    build_periodic_polymer(\n",
        "        \".xyz\",\n",
        "        output_file=\".cif\",\n",
        "        dummy_symbol=\"X\",\n",
        "        repeat=1,\n",
        "    )\n"
      ]
    }
  ]
}